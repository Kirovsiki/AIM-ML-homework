{
 "cells": [
  {
   "cell_type": "code",
   "execution_count": null,
   "metadata": {},
   "outputs": [],
   "source": [
    "作业清单(80分)\n",
    "确保你按顺序切除每个单元，并保留每个单元的输出。\n",
    "\n",
    "变换和绘制图像。(15分)\n",
    "\n",
    "数据加载。(10分)\n",
    "\n",
    "训练基线模型并绘制学习曲线。(15分)\n",
    "\n",
    "比较和分析 (20分)\n",
    "\n",
    "比较5、20和50 epochs的训练结果。\n",
    "使用学习率为0.001的torch.optim.Adam()作为优化器。\n",
    "尝试不同的data_transform函数\n",
    "将你的模型中的隐藏单元的数量增加一倍，并训练20个epochs，结果会怎样？(10分)\n",
    "\n",
    "对你自己定制的披萨/牛排/寿司的图片进行预测（你甚至可以从网上下载一个），并分享你的预测结果。(10分)\n",
    "\n",
    "你训练的模型是否正确？\n",
    "如果没有，你认为你可以做什么来改善它？\n",
    "高级选项（20分）\n",
    "确保你按顺序切除每个单元，并保留每个单元的输出。\n",
    "\n",
    "A1: 在数据集上训练一个复杂的模型（ResNet18）（10分）\n",
    "提醒你调整图像数据的大小，并召回dataloader。\n",
    "A2: 比较一个简单模型（由模板提供）和复杂模型的性能。(5分)\n",
    "在同一图轴上画出学习曲线\n",
    "A3: git版本控制的使用（5分）\n",
    "git添加，git提交，git日志，在这个笔记本内插入一个屏幕截图\n",
    "\n",
    "通过www.DeepL.com/Translator（免费版）翻译"
   ]
  }
 ],
 "metadata": {
  "kernelspec": {
   "display_name": "Python 3",
   "language": "python",
   "name": "python3"
  },
  "language_info": {
   "codemirror_mode": {
    "name": "ipython",
    "version": 3
   },
   "file_extension": ".py",
   "mimetype": "text/x-python",
   "name": "python",
   "nbconvert_exporter": "python",
   "pygments_lexer": "ipython3",
   "version": "3.8.5"
  }
 },
 "nbformat": 4,
 "nbformat_minor": 5
}
